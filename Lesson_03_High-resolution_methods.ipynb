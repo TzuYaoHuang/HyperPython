{
 "cells": [
  {
   "cell_type": "code",
   "execution_count": 4,
   "metadata": {
    "collapsed": false
   },
   "outputs": [
    {
     "data": {
      "text/html": [
       "<link href='http://fonts.googleapis.com/css?family=Alegreya+Sans:100,300,400,500,700,800,900,100italic,300italic,400italic,500italic,700italic,800italic,900italic' rel='stylesheet' type='text/css'>\n",
       "<link href='http://fonts.googleapis.com/css?family=Arvo:400,700,400italic' rel='stylesheet' type='text/css'>\n",
       "<link href='http://fonts.googleapis.com/css?family=PT+Mono' rel='stylesheet' type='text/css'>\n",
       "<link href='http://fonts.googleapis.com/css?family=Philosopher:400,700,400italic,700italic' rel='stylesheet' type='text/css'>\n",
       "\n",
       "<style>\n",
       "\n",
       "#notebook_panel { /* main background */\n",
       "    background: #888;\n",
       "    color: #f6f6f6;\n",
       "}\n",
       "\n",
       "div.cell { /* set cell width to about 80 chars */\n",
       "    width: 800px;\n",
       "}\n",
       "\n",
       "div #notebook { /* centre the content */\n",
       "    background: #fff; /* white background for content */\n",
       "    width: 1000px;\n",
       "    margin: auto;\n",
       "    padding-left: 1em;\n",
       "}\n",
       "\n",
       "#notebook li { /* More space between bullet points */\n",
       "margin-top:0.8em;\n",
       "}\n",
       "\n",
       "/* draw border around running cells */\n",
       "div.cell.border-box-sizing.code_cell.running { \n",
       "    border: 3px solid #111;\n",
       "}\n",
       "\n",
       "/* Put a solid color box around each cell and its output, visually linking them together */\n",
       "div.cell.code_cell {\n",
       "    background-color: #f4f3e0; \n",
       "    border-radius: 10px; /* rounded borders */\n",
       "    padding: 1em;\n",
       "    margin-top: 1em;\n",
       "}\n",
       "\n",
       "div.text_cell_render{\n",
       "    font-family: 'Arvo' sans-serif;\n",
       "    line-height: 130%;\n",
       "    font-size: 115%;\n",
       "    width:700px;\n",
       "    margin-left:auto;\n",
       "    margin-right:auto;\n",
       "}\n",
       "\n",
       "\n",
       "/* Formatting for header cells */\n",
       ".text_cell_render h1 {\n",
       "    font-family: 'Philosopher', sans-serif;\n",
       "    font-weight: 400;\n",
       "    font-size: 40pt;\n",
       "    line-height: 100%;\n",
       "    color: rgb(12,85,97);\n",
       "    margin-bottom: 0.1em;\n",
       "    margin-top: 0.1em;\n",
       "    display: block;\n",
       "}\t\n",
       ".text_cell_render h2 {\n",
       "    font-family: 'Philosopher', serif;\n",
       "    font-weight: 700;\n",
       "    font-size: 24pt;\n",
       "    line-height: 100%;\n",
       "    color: rgb(171,165,131);\n",
       "    margin-bottom: 0.1em;\n",
       "    margin-top: 0.1em;\n",
       "    display: block;\n",
       "}\t\n",
       "\n",
       ".text_cell_render h3 {\n",
       "    font-family: 'Philosopher', serif;\n",
       "    margin-top:12px;\n",
       "    margin-bottom: 3px;\n",
       "    font-style: italic;\n",
       "    color: rgb(95,92,72);\n",
       "}\n",
       "\n",
       ".text_cell_render h4 {\n",
       "    font-family: 'Philosopher', serif;\n",
       "}\n",
       "\n",
       ".text_cell_render h5 {\n",
       "    font-family: 'Alegreya Sans', sans-serif;\n",
       "    font-weight: 300;\n",
       "    font-size: 16pt;\n",
       "    color: grey;\n",
       "    font-style: italic;\n",
       "    margin-bottom: .1em;\n",
       "    margin-top: 0.1em;\n",
       "    display: block;\n",
       "}\n",
       "\n",
       ".text_cell_render h6 {\n",
       "    font-family: 'PT Mono', sans-serif;\n",
       "    font-weight: 300;\n",
       "    font-size: 10pt;\n",
       "    color: grey;\n",
       "    margin-bottom: 1px;\n",
       "    margin-top: 1px;\n",
       "}\n",
       "\n",
       ".CodeMirror{\n",
       "    font-family: \"PT Mono\";\n",
       "    font-size: 100%;\n",
       "}\n",
       "\n",
       "</style>\n"
      ],
      "text/plain": [
       "<IPython.core.display.HTML object>"
      ]
     },
     "execution_count": 4,
     "metadata": {},
     "output_type": "execute_result"
    }
   ],
   "source": [
    "from IPython.display import display, HTML # import from core is deprecated\n",
    "css_file = './custom.css'\n",
    "HTML(open(css_file, \"r\").read())"
   ]
  },
  {
   "cell_type": "markdown",
   "metadata": {},
   "source": [
    "###### Content provided under a Creative Commons Attribution license, CC-BY 4.0; code under MIT License. (c)2014 [David I. Ketcheson](http://davidketcheson.info)"
   ]
  },
  {
   "cell_type": "markdown",
   "metadata": {},
   "source": [
    "##### version 0.1 - May 2014"
   ]
  },
  {
   "cell_type": "markdown",
   "metadata": {},
   "source": [
    "# High-resolution methods"
   ]
  },
  {
   "attachments": {},
   "cell_type": "markdown",
   "metadata": {},
   "source": [
    "$$\n",
    "\\newcommand{\\Dx}{\\Delta x}\n",
    "\\newcommand{\\Dt}{\\Delta t}\n",
    "\\newcommand{\\imh}{{i-1/2}}\n",
    "\\newcommand{\\iph}{{i+1/2}}\n",
    "\\newcommand{\\DQ}{\\Delta Q}\n",
    "\\newcommand{\\sgn}{\\mathrm{sgn}}\n",
    "$$\n",
    "The methods we have used so far (the *upwind method* and the *Lax-Friedrichs method*) are both dissipative.  This means that over time they artificially smear out the solution -- especially shocks.  Furthermore, both of these methods are only *first order accurate*, meaning that if we reduce the values of $\\Dt$ and $\\Dx$ by a factor of two, the overall error decreases (only) by a factor of two.  We can do better."
   ]
  },
  {
   "cell_type": "markdown",
   "metadata": {},
   "source": [
    "## Reducing dissipation"
   ]
  },
  {
   "cell_type": "markdown",
   "metadata": {},
   "source": [
    "The first step in improving our accuracy is to use a more accurate representation of $q(x)$ at each step.  Instead of assuming that $q$ is piecewise-constant, we will now approximate it by a piecewise-linear function:\n",
    "\n",
    "$$q(x) = Q^n_i + \\sigma^n_i (x-x_i).$$\n",
    "\n",
    "Here $\\sigma_i$ represents the slope in cell $i$.  The most obvious choice to ensure that this results in a second-order accurate approximation is to take the centered approximation\n",
    "\n",
    "$$\\sigma^n_i = \\frac{Q^n_{i+1} - Q^n_{i-1}}{2\\Dx}.$$\n",
    "\n",
    "We use this to obtain values at the cell interfaces:\n",
    "\n",
    "\\begin{align}\n",
    "q^+_\\imh & = Q_i - \\sigma_i \\frac{\\Dx}{2} \\\\\n",
    "q^-_\\iph & = Q_i + \\sigma_i \\frac{\\Dx}{2}.\n",
    "\\end{align}"
   ]
  },
  {
   "cell_type": "markdown",
   "metadata": {},
   "source": [
    "![](./figures/linear_reconstruction.png)"
   ]
  },
  {
   "attachments": {},
   "cell_type": "markdown",
   "metadata": {},
   "source": [
    "We'll use these interface values to approximate the flux, based on the **Lax-Friedrichs flux**:\n",
    "\n",
    "$$F_\\imh = \\frac{1}{2} \\left( f(q^-_\\imh) + f(q^+_\\imh) - \\frac{\\Dt}{\\Dx} (q^+_\\imh - q^-_\\imh)\\right)$$\n",
    "\n",
    "This provides second-order accuracy in space.  We also need to make the method second-order accurate in time.  We can do so by using a second-order Runge--Kutta method.  Then the full method is\n",
    "\n",
    "\\begin{align}\n",
    "Q^*_i & = Q^n_i - \\frac{\\Dt}{\\Dx}\\left( F^n_\\iph - F^n_\\imh \\right) \\\\\n",
    "Q^{n+1}_i & = \\frac{1}{2} Q^n_i + \\frac{1}{2} Q^*_i - \\frac{\\Dt}{2\\Dx}\\left( F^*_\\iph - F^*_\\imh \\right) \\\\\n",
    "\\end{align}"
   ]
  },
  {
   "cell_type": "code",
   "execution_count": 5,
   "metadata": {
    "collapsed": true
   },
   "outputs": [],
   "source": [
    "%matplotlib widget\n",
    "import sys\n",
    "sys.path.append('./util')\n",
    "from ianimate import ianimate\n",
    "import numpy as np"
   ]
  },
  {
   "cell_type": "code",
   "execution_count": 6,
   "metadata": {
    "collapsed": false
   },
   "outputs": [
    {
     "data": {
      "text/plain": [
       "<matplotlib.animation.FuncAnimation at 0x11bc9bdf0>"
      ]
     },
     "execution_count": 6,
     "metadata": {},
     "output_type": "execute_result"
    },
    {
     "data": {
      "application/vnd.jupyter.widget-view+json": {
       "model_id": "9bb39a9d719540969e598ed5ba34c4e5",
       "version_major": 2,
       "version_minor": 0
      },
      "image/png": "[encoded data removed]",
      "text/html": [
       "\n",
       "            <div style=\"display: inline-block;\">\n",
       "                <div class=\"jupyter-widgets widget-label\" style=\"text-align: center;\">\n",
       "                    Figure\n",
       "                </div>\n",
       "                <img src='data:image/png;base64,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' width=800.0/>\n",
       "            </div>\n",
       "        "
      ],
      "text/plain": [
       "Canvas(toolbar=Toolbar(toolitems=[('Home', 'Reset original view', 'home', 'home'), ('Back', 'Back to previous …"
      ]
     },
     "metadata": {},
     "output_type": "display_data"
    }
   ],
   "source": [
    "def f(q):\n",
    "    return q*(1.0-q)\n",
    "\n",
    "m = 100     # number of points\n",
    "dx = 1./m   # Size of 1 grid cell\n",
    "x = np.arange(-3*dx/2, 1.+5*dx/2, dx)\n",
    "\n",
    "t = 0. # Initial time\n",
    "T = 0.5 # Final time\n",
    "dt = 0.9 * dx  # Time step\n",
    "\n",
    "Q = 0.9*np.exp(-100*(x-0.5)**2)\n",
    "Qnew = np.zeros(m+4)\n",
    "Qstar = np.zeros(m+4)\n",
    "sigma = np.zeros(m+4)\n",
    "\n",
    "F = np.zeros(m+4)\n",
    "QQ = [Q]\n",
    "\n",
    "while t < T:\n",
    "    \n",
    "    sigma[1:-1]  = (Q[2:] - Q[:-2])/(2.0*dx)\n",
    "    qplus  = Q[1:-1] - sigma[1:-1] * dx/2.0  # q^+_{i-1/2}\n",
    "    qminus = Q[:-2] + sigma[:-2]  * dx/2.0  # q^-_{i-1/2}\n",
    "    F[1:-1] = 0.5*(f(qplus)+f(qminus) - dx/dt*(qplus-qminus) )# F_{i-1/2}\n",
    "    \n",
    "    Qstar[2:-2] = Q[2:-2] - dt/dx*(F[3:-1]-F[2:-2])\n",
    "    Qstar[0:2] = Qstar[2]\n",
    "    Qstar[-2:] = Qstar[-3]\n",
    "    \n",
    "    sigma[1:-1]  = (Qstar[2:] - Qstar[:-2])/(2.0*dx)\n",
    "    qplus  = Qstar[1:-1] - sigma[1:-1] * dx/2.0  # q^+_{i-1/2}\n",
    "    qminus = Qstar[:-2] + sigma[:-2]  * dx/2.0  # q^-_{i-1/2}\n",
    "    F[1:-1] = 0.5*(f(qplus)+f(qminus) - dx/dt*(qplus-qminus) )# F_{i-1/2}\n",
    "    \n",
    "    Qnew[2:-2] = 0.5*Q[2:-2] + 0.5*(Qstar[2:-2] - dt/dx*(F[3:-1]-F[2:-2]))\n",
    "        \n",
    "    Q = Qnew.copy()\n",
    "    Q[0:2] = Q[2]\n",
    "    Q[-2:] = Q[-3]\n",
    "    t = t + dt\n",
    "    QQ.append(Q)\n",
    "    \n",
    "ianimate(x,QQ)"
   ]
  },
  {
   "cell_type": "markdown",
   "metadata": {},
   "source": [
    "The shock wave is much sharper now, but we have a new problem. Do you see the little dip behind the shock?  If you look closely, you'll see that the solution is actually negative there!  Obviously, a negative density of cars makes no sense.  What's more, the solution shouldn't dip there -- and it shouldn't have that funny bump just in front of the shock either.  What to do?"
   ]
  },
  {
   "cell_type": "markdown",
   "metadata": {},
   "source": [
    "## Slope limiting"
   ]
  },
  {
   "cell_type": "markdown",
   "metadata": {},
   "source": [
    "The spurious oscillations in our solution are not a particular feature of the method we've chosen.  In fact, *any* second-order (or higher) method that computes $q^\\pm_\\imh$ as a linear function of the cell averages will have oscillations (this is a famous result known as *Godunov's Theorem*).\n",
    "\n",
    "We can get around this difficulty by choosing the slope $\\sigma$ as a *nonlinear* function of the cell averages.  In particular, to avoid oscillations we can choose the smaller of the two one-sided slopes.  Let $\\DQ_\\imh = Q_i - Q_{i-1}$.  Then we use the slope\n",
    "\n",
    "\\begin{align}\n",
    "\\sigma_i & = \\text{minmod}(\\DQ_\\imh,\\DQ_\\iph)/\\Dx \\\\\n",
    "& = \\begin{cases} \\min(\\DQ_\\imh, \\DQ_\\iph)/\\Dx & \\text{ if } \\DQ_\\imh, \\DQ_\\iph > 0 \\\\\n",
    "\\max(\\DQ_\\imh, \\DQ_\\iph)/\\Dx & \\text{ if } \\DQ_\\imh, \\DQ_\\iph < 0 \\\\\n",
    "0 & \\text{ if } \\DQ_\\imh\\cdot \\DQ_\\iph < 0.\n",
    "\\end{cases}\n",
    "\\end{align}\n",
    "\n",
    "This choice of slope is known as the minimum-modulus, or *minmod* slope."
   ]
  },
  {
   "cell_type": "markdown",
   "metadata": {},
   "source": [
    "## Local Lax-Friedrichs flux"
   ]
  },
  {
   "attachments": {},
   "cell_type": "markdown",
   "metadata": {},
   "source": [
    "The Lax-Friedrichs flux ensures that our solution is stable, but it does so by adding a lot of dissipation everywhere.  In fact, we could get away with using less dissipation over most of the domain.  A variant that does this is called the **local Lax-Friedrichs flux**.  It is little more accurate than the Lax-Friedrichs flux because it uses the local characteristic speeds to determine how much dissipation is needed at each interface.  It is\n",
    "\n",
    "$$F_\\imh = \\frac{1}{2} \\left( f(q^-_\\imh) + f(q^+_\\imh) - \\alpha_\\imh\\frac{\\Dt}{\\Dx} (q^+_\\imh - q^-_\\imh)\\right)$$\n",
    "\n",
    "where\n",
    "\n",
    "$$\\alpha_\\imh = \\min(\\left|f'(q^-_\\imh)\\right|,\\left|f'(q^+_\\imh)\\right|).$$"
   ]
  },
  {
   "cell_type": "markdown",
   "metadata": {},
   "source": [
    "### Exercise"
   ]
  },
  {
   "cell_type": "markdown",
   "metadata": {},
   "source": [
    "In the cell below, copy and modify the second-order method above to use the minmod slope and local Lax-Friedrichs flux.  \n",
    "\n",
    "*Hint 1*: You will want to use the functions `np.minimum` and `np.maximum`, which compare two arrays elementwise (not `np.min`, which finds the minimum of a single array).\n",
    "\n",
    "*Hint 2*: to avoid using a loop for the slope computation, note that the minmod function can be written as\n",
    "$$\n",
    "\\text{minmod}(a,b) = \\frac{\\sgn(a)+\\sgn(b)}{2} \\min(|a|,|b|).\n",
    "$$\n",
    "The signum  function is implemented as `np.sign()`. "
   ]
  },
  {
   "cell_type": "code",
   "execution_count": null,
   "metadata": {
    "collapsed": false
   },
   "outputs": [],
   "source": []
  },
  {
   "cell_type": "markdown",
   "metadata": {},
   "source": [
    "As you can see (after completing the exercise), this method keeps the shock fairly sharp and avoids the creation of negative solution values.  This method falls into the class of [MUSCL]() schemes and is proven to avoid oscillations."
   ]
  },
  {
   "cell_type": "markdown",
   "metadata": {},
   "source": [
    "## High-order methods"
   ]
  },
  {
   "cell_type": "markdown",
   "metadata": {},
   "source": [
    "Just like the method we implemented above, most methods that are more than first-order accurate consist of three components:\n",
    "1. **Reconstruction**: A method for computing interface values $q^\\pm_\\imh$ from cell averages $Q_i$.  This involves some kind of limiting in order to avoid oscillations.  Higher-order reconstruction is often done using [weighted essentially non-oscillatory (WENO)](http://www.dam.brown.edu/scicomp/media/report_files/BrownSC-2006-21.ps.gz) methods.\n",
    "2. **Numerical flux**:  An approximation of the flux, computed based on the interface values $q^\\pm_\\imh$.  The Lax-Friedrichs flux above is one of the simplest.  Much more accurate fluxes can be computed using an exact or approximate [Riemann solver](http://en.wikipedia.org/wiki/Riemann_solver).\n",
    "3. **Time integrator**: In order to get high-order accuracy in time, usually a [Runge-Kutta method](http://en.wikipedia.org/wiki/Runge%E2%80%93Kutta_methods) is used.  [Strong stability preserving methods](http://www.davidketcheson.info/assets/papers/sspreview.pdf) are particularly popular."
   ]
  },
  {
   "cell_type": "markdown",
   "metadata": {},
   "source": [
    "It's possible to devise methods of very high order by increasing the order of the polynomial reconstruction and of the time integrator."
   ]
  }
 ],
 "metadata": {
  "kernelspec": {
   "display_name": "base",
   "language": "python",
   "name": "python3"
  },
  "language_info": {
   "codemirror_mode": {
    "name": "ipython",
    "version": 3
   },
   "file_extension": ".py",
   "mimetype": "text/x-python",
   "name": "python",
   "nbconvert_exporter": "python",
   "pygments_lexer": "ipython3",
   "version": "3.9.16"
  },
  "vscode": {
   "interpreter": {
    "hash": "21f3e4b7686f5765b53a86d750e9c9699b0ca8e58efbef957fc535a6f28d5d61"
   }
  }
 },
 "nbformat": 4,
 "nbformat_minor": 0
}
