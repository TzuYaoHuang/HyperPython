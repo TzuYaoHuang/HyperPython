{
 "cells": [
  {
   "cell_type": "markdown",
   "id": "b33068bb",
   "metadata": {},
   "source": [
    "###### Content provided under a Creative Commons Attribution license, CC-BY 4.0; code under MIT License. (c)2014 [David I. Ketcheson](http://davidketcheson.info)"
   ]
  },
  {
   "cell_type": "markdown",
   "id": "9b35ad8d",
   "metadata": {},
   "source": [
    "##### version 0.1 - May 2014"
   ]
  },
  {
   "cell_type": "markdown",
   "id": "68d119d8",
   "metadata": {},
   "source": [
    "# A Brief Introduction to Python"
   ]
  },
  {
   "cell_type": "markdown",
   "id": "ed6df18a",
   "metadata": {},
   "source": [
    "This lesson is a preamble to the HyperPython short course, in which you will learn some basic theory of hyperbolic conservation laws and how to solve them numerically.\n",
    "\n",
    "In this lesson, we'll learn about the [Python programming language](https://www.python.org/) and the [IPython notebook](http://ipython.org/notebook.html), as well as the Python packages [numpy](http://www.numpy.org/) and [matplotlib](http://matplotlib.org/).  If you're already familiar with these, you may skip to [Lesson 1](Lesson_01_Advection.ipynb), where the real fun begins.\n",
    "\n",
    "This isn't a very thorough introduction -- we'll just learn the things that are essential for the course.  Some resources for learning more about Python and its use in scientific computing are linked [at the end of this notebook](#Further-resources)."
   ]
  },
  {
   "cell_type": "markdown",
   "id": "88854b7b",
   "metadata": {},
   "source": [
    "## Prerequisites"
   ]
  },
  {
   "cell_type": "markdown",
   "id": "9ea3df06",
   "metadata": {},
   "source": [
    "### Knowledge"
   ]
  },
  {
   "cell_type": "markdown",
   "id": "b87036e3",
   "metadata": {},
   "source": [
    "To get through the course, you need not have used Python or studied hyperbolic PDEs before.  But it is assumed that you have programmed in *some* language and that you are familiar with basic differential equations and numerical methods."
   ]
  },
  {
   "cell_type": "markdown",
   "id": "b7baab31",
   "metadata": {},
   "source": [
    "### Software"
   ]
  },
  {
   "cell_type": "markdown",
   "id": "57a901ce",
   "metadata": {},
   "source": [
    "To run the code in this course, you'll need an installation of Python, numpy, matplotlib, and Clawpack.  The easiest way to get them all is to use [SageMathCloud](http://cloud.sagemath.org) -- just create a free account, start a new project, open a terminal, and type\n",
    "    \n",
    "    git clone git@github.com:ketch/HyperPython.git\n",
    "   \n",
    "Open this notebook there and you're off.\n",
    "\n",
    "You can also use [Wakari](http://wakari.io), or install everything locally on your own machine.  For local installation, [Anaconda](https://store.continuum.io/cshop/anaconda/) is convenient, or you can just use pip.  All of these are free."
   ]
  },
  {
   "cell_type": "markdown",
   "id": "2d64e994",
   "metadata": {},
   "source": [
    "## Python and the IPython Notebook"
   ]
  },
  {
   "cell_type": "markdown",
   "id": "20d27879",
   "metadata": {},
   "source": [
    "The code for this course is written in Python, which is a programming language designed to promote code that is easy to read and write.  Python has become one of the most important languages in scientific computing.  It is high-level like MATLAB, but unlike MATLAB it is free and is intended as a general-purpose language."
   ]
  },
  {
   "cell_type": "markdown",
   "id": "a513359b",
   "metadata": {},
   "source": [
    "[IPython](http://www.ipython.org) is a collection of tools for interactive programming in Python.  Most importantly for us, IPython includes an interactive shell and a browser-based notebook.  The notebook (which you are using now) allows you to run Python code in your web browser; just click on a cell with code and hit shift+enter.  Try it with the cell below."
   ]
  },
  {
   "cell_type": "code",
   "execution_count": 1,
   "id": "4926f0f0",
   "metadata": {
    "collapsed": false
   },
   "outputs": [
    {
     "name": "stdout",
     "output_type": "stream",
     "text": [
      "The best conservation laws are hyperbolic!\n"
     ]
    }
   ],
   "source": [
    "print(\"The best conservation laws are hyperbolic!\")"
   ]
  },
  {
   "cell_type": "markdown",
   "id": "4a02e9e8",
   "metadata": {},
   "source": [
    "Try changing the message in the box and running it again.\n",
    "\n",
    "The box of code above is called a *cell*.  You can use the menu and toolbar near the top of your browser to insert or delete cells or save the notebook.  The text you're reading is also in a cell, which you can edit (just double-click on this text).  You'll also see math in these cells; the math is written using LaTeX.  For example:\n",
    "\n",
    "$$e^{i \\pi} = -1.$$\n",
    "\n",
    "The menu bar above also has buttons to run cells or to stop code running."
   ]
  },
  {
   "cell_type": "markdown",
   "id": "d17cfe47",
   "metadata": {},
   "source": [
    "You can find a huge collection of interesting IPython notebooks on a wide range of topics [here](https://github.com/ipython/ipython/wiki/A-gallery-of-interesting-IPython-Notebooks#table-of-contents).  Since notebooks combine text, mathematics, and executable code, they're a great way to learn."
   ]
  },
  {
   "cell_type": "markdown",
   "id": "19c121b2",
   "metadata": {},
   "source": [
    "Running the code cell below will reformat the notebook to make things a bit easier to read, and will also help you keep track of running code later on.  The same cell appears at the top of each of the later lessons in the course."
   ]
  },
  {
   "cell_type": "code",
   "execution_count": 2,
   "id": "d1872f0d",
   "metadata": {
    "collapsed": false
   },
   "outputs": [
    {
     "data": {
      "text/html": [
       "<link href='http://fonts.googleapis.com/css?family=Alegreya+Sans:100,300,400,500,700,800,900,100italic,300italic,400italic,500italic,700italic,800italic,900italic' rel='stylesheet' type='text/css'>\n",
       "<link href='http://fonts.googleapis.com/css?family=Arvo:400,700,400italic' rel='stylesheet' type='text/css'>\n",
       "<link href='http://fonts.googleapis.com/css?family=PT+Mono' rel='stylesheet' type='text/css'>\n",
       "<link href='http://fonts.googleapis.com/css?family=Philosopher:400,700,400italic,700italic' rel='stylesheet' type='text/css'>\n",
       "\n",
       "<style>\n",
       "\n",
       "#notebook_panel { /* main background */\n",
       "    background: #888;\n",
       "    color: #f6f6f6;\n",
       "}\n",
       "\n",
       "div.cell { /* set cell width to about 80 chars */\n",
       "    width: 800px;\n",
       "}\n",
       "\n",
       "div #notebook { /* centre the content */\n",
       "    background: #fff; /* white background for content */\n",
       "    width: 1000px;\n",
       "    margin: auto;\n",
       "    padding-left: 1em;\n",
       "}\n",
       "\n",
       "#notebook li { /* More space between bullet points */\n",
       "margin-top:0.8em;\n",
       "}\n",
       "\n",
       "/* draw border around running cells */\n",
       "div.cell.border-box-sizing.code_cell.running { \n",
       "    border: 3px solid #111;\n",
       "}\n",
       "\n",
       "/* Put a solid color box around each cell and its output, visually linking them together */\n",
       "div.cell.code_cell {\n",
       "    background-color: #f4f3e0; \n",
       "    border-radius: 10px; /* rounded borders */\n",
       "    padding: 1em;\n",
       "    margin-top: 1em;\n",
       "}\n",
       "\n",
       "div.text_cell_render{\n",
       "    font-family: 'Arvo' sans-serif;\n",
       "    line-height: 130%;\n",
       "    font-size: 115%;\n",
       "    width:700px;\n",
       "    margin-left:auto;\n",
       "    margin-right:auto;\n",
       "}\n",
       "\n",
       "\n",
       "/* Formatting for header cells */\n",
       ".text_cell_render h1 {\n",
       "    font-family: 'Philosopher', sans-serif;\n",
       "    font-weight: 400;\n",
       "    font-size: 40pt;\n",
       "    line-height: 100%;\n",
       "    color: rgb(12,85,97);\n",
       "    margin-bottom: 0.1em;\n",
       "    margin-top: 0.1em;\n",
       "    display: block;\n",
       "}\t\n",
       ".text_cell_render h2 {\n",
       "    font-family: 'Philosopher', serif;\n",
       "    font-weight: 700;\n",
       "    font-size: 24pt;\n",
       "    line-height: 100%;\n",
       "    color: rgb(171,165,131);\n",
       "    margin-bottom: 0.1em;\n",
       "    margin-top: 0.1em;\n",
       "    display: block;\n",
       "}\t\n",
       "\n",
       ".text_cell_render h3 {\n",
       "    font-family: 'Philosopher', serif;\n",
       "    margin-top:12px;\n",
       "    margin-bottom: 3px;\n",
       "    font-style: italic;\n",
       "    color: rgb(95,92,72);\n",
       "}\n",
       "\n",
       ".text_cell_render h4 {\n",
       "    font-family: 'Philosopher', serif;\n",
       "}\n",
       "\n",
       ".text_cell_render h5 {\n",
       "    font-family: 'Alegreya Sans', sans-serif;\n",
       "    font-weight: 300;\n",
       "    font-size: 16pt;\n",
       "    color: grey;\n",
       "    font-style: italic;\n",
       "    margin-bottom: .1em;\n",
       "    margin-top: 0.1em;\n",
       "    display: block;\n",
       "}\n",
       "\n",
       ".text_cell_render h6 {\n",
       "    font-family: 'PT Mono', sans-serif;\n",
       "    font-weight: 300;\n",
       "    font-size: 10pt;\n",
       "    color: grey;\n",
       "    margin-bottom: 1px;\n",
       "    margin-top: 1px;\n",
       "}\n",
       "\n",
       ".CodeMirror{\n",
       "    font-family: \"PT Mono\";\n",
       "    font-size: 100%;\n",
       "}\n",
       "\n",
       "</style>\n"
      ],
      "text/plain": [
       "<IPython.core.display.HTML object>"
      ]
     },
     "execution_count": 2,
     "metadata": {},
     "output_type": "execute_result"
    }
   ],
   "source": [
    "from IPython.core.display import HTML\n",
    "css_file = './custom.css'\n",
    "HTML(open(css_file, \"r\").read())"
   ]
  },
  {
   "cell_type": "markdown",
   "id": "8d4a39a2",
   "metadata": {},
   "source": [
    "Now we'll get into the meat of Python.  For this first lesson, I recommend that you open an IPython session in a terminal and type the code yourself, rather than just executing the code here in the notebook."
   ]
  },
  {
   "cell_type": "markdown",
   "id": "5fcfbb4e",
   "metadata": {},
   "source": [
    "### Python basics"
   ]
  },
  {
   "cell_type": "markdown",
   "id": "30108fde",
   "metadata": {},
   "source": [
    "Python has many built-in functions, like `print`, but most functions are inside *modules*, which aren't loaded unless you `import` them:"
   ]
  },
  {
   "cell_type": "code",
   "execution_count": 3,
   "id": "d3c0e60e",
   "metadata": {
    "collapsed": false
   },
   "outputs": [
    {
     "name": "stdout",
     "output_type": "stream",
     "text": [
      "1.4142135623730951\n"
     ]
    }
   ],
   "source": [
    "from math import sqrt\n",
    "print(sqrt(2))"
   ]
  },
  {
   "cell_type": "markdown",
   "id": "792c4873",
   "metadata": {},
   "source": [
    "We can also import a whole module:"
   ]
  },
  {
   "cell_type": "code",
   "execution_count": 4,
   "id": "6bcd5d45",
   "metadata": {
    "collapsed": false
   },
   "outputs": [
    {
     "name": "stdout",
     "output_type": "stream",
     "text": [
      "1.4142135623730951\n"
     ]
    }
   ],
   "source": [
    "import math\n",
    "print(math.sqrt(2))"
   ]
  },
  {
   "cell_type": "markdown",
   "id": "fc4c0230",
   "metadata": {},
   "source": [
    "What else is in the `math` module?  You can find out using IPython's tab completion.  Just put your cursor at the end of the line below and hit `tab`:"
   ]
  },
  {
   "cell_type": "code",
   "execution_count": 5,
   "id": "398c663e",
   "metadata": {
    "collapsed": false
   },
   "outputs": [
    {
     "ename": "TypeError",
     "evalue": "math.ceil() takes exactly one argument (0 given)",
     "output_type": "error",
     "traceback": [
      "\u001b[0;31m---------------------------------------------------------------------------\u001b[0m",
      "\u001b[0;31mTypeError\u001b[0m                                 Traceback (most recent call last)",
      "\u001b[0;32m/var/folders/rm/jb3vm3c5061g59ks51w_tsr80000gn/T/ipykernel_63156/2187703568.py\u001b[0m in \u001b[0;36m<module>\u001b[0;34m\u001b[0m\n\u001b[0;32m----> 1\u001b[0;31m \u001b[0mmath\u001b[0m\u001b[0;34m.\u001b[0m\u001b[0mceil\u001b[0m\u001b[0;34m(\u001b[0m\u001b[0;34m)\u001b[0m\u001b[0;34m\u001b[0m\u001b[0;34m\u001b[0m\u001b[0m\n\u001b[0m",
      "\u001b[0;31mTypeError\u001b[0m: math.ceil() takes exactly one argument (0 given)"
     ]
    }
   ],
   "source": [
    "math.ceil()"
   ]
  },
  {
   "cell_type": "markdown",
   "id": "0ceaeed6",
   "metadata": {},
   "source": [
    "What does `math.atan2` do, for instance?  You can find out with IPython's magic help function, invoked by using the question mark after a function name.  When you're done reading the help, you can close the pager below by clicking on the \"x\"."
   ]
  },
  {
   "cell_type": "code",
   "execution_count": 6,
   "id": "88f80e11",
   "metadata": {
    "collapsed": false
   },
   "outputs": [
    {
     "name": "stdout",
     "output_type": "stream",
     "text": [
      "\u001b[0;31mSignature:\u001b[0m \u001b[0mmath\u001b[0m\u001b[0;34m.\u001b[0m\u001b[0matan2\u001b[0m\u001b[0;34m(\u001b[0m\u001b[0my\u001b[0m\u001b[0;34m,\u001b[0m \u001b[0mx\u001b[0m\u001b[0;34m,\u001b[0m \u001b[0;34m/\u001b[0m\u001b[0;34m)\u001b[0m\u001b[0;34m\u001b[0m\u001b[0;34m\u001b[0m\u001b[0m\n",
      "\u001b[0;31mDocstring:\u001b[0m\n",
      "Return the arc tangent (measured in radians) of y/x.\n",
      "\n",
      "Unlike atan(y/x), the signs of both x and y are considered.\n",
      "\u001b[0;31mType:\u001b[0m      builtin_function_or_method\n"
     ]
    }
   ],
   "source": [
    "math.atan2?"
   ]
  },
  {
   "cell_type": "markdown",
   "id": "75731e46",
   "metadata": {},
   "source": [
    "### Lists"
   ]
  },
  {
   "cell_type": "markdown",
   "id": "919f5fcd",
   "metadata": {},
   "source": [
    "A *list* is an ordered collection of values or objects."
   ]
  },
  {
   "cell_type": "code",
   "execution_count": null,
   "id": "d3e9e2de",
   "metadata": {
    "collapsed": false
   },
   "outputs": [],
   "source": [
    "x = [1,2,3,4]"
   ]
  },
  {
   "cell_type": "markdown",
   "id": "40d48220",
   "metadata": {},
   "source": [
    "You can ask for one or more items from a list as follows:"
   ]
  },
  {
   "cell_type": "code",
   "execution_count": null,
   "id": "8be8dce1",
   "metadata": {
    "collapsed": false
   },
   "outputs": [],
   "source": [
    "print( x[0])"
   ]
  },
  {
   "cell_type": "code",
   "execution_count": null,
   "id": "09904718",
   "metadata": {
    "collapsed": false
   },
   "outputs": [],
   "source": [
    "print( x[1:3])"
   ]
  },
  {
   "cell_type": "markdown",
   "id": "40a212db",
   "metadata": {},
   "source": [
    "Two important things to remember:\n",
    "1. Python lists are indexed starting from zero.\n",
    "2. When you ask for a range of things, you don't get the last one."
   ]
  },
  {
   "cell_type": "markdown",
   "id": "2a8a3a51",
   "metadata": {},
   "source": [
    "You can quickly make lists of numbers using the `range` function:"
   ]
  },
  {
   "cell_type": "code",
   "execution_count": null,
   "id": "13dbba5b",
   "metadata": {
    "collapsed": false
   },
   "outputs": [],
   "source": [
    "y = range(1,5)\n",
    "print y"
   ]
  },
  {
   "cell_type": "markdown",
   "id": "3f96182e",
   "metadata": {},
   "source": [
    "### Loops"
   ]
  },
  {
   "cell_type": "code",
   "execution_count": null,
   "id": "239afc72",
   "metadata": {
    "collapsed": false
   },
   "outputs": [],
   "source": [
    "for i in range(5):\n",
    "    print( i)\n",
    "    print( 'in the loop')\n",
    "    \n",
    "print( 'finished')"
   ]
  },
  {
   "cell_type": "markdown",
   "id": "c42a34e6",
   "metadata": {},
   "source": [
    "A *for loop* just iterates over a list.  Notice how the contents of the loop are indented.  Python knows the loop has ended when it finds a line that is not indented.  \n",
    "\n",
    "To nest loops, indent again:"
   ]
  },
  {
   "cell_type": "code",
   "execution_count": null,
   "id": "33f6d08d",
   "metadata": {
    "collapsed": false
   },
   "outputs": [],
   "source": [
    "for i in range(5):\n",
    "    print( i)\n",
    "    for j in range(2):\n",
    "        print ('in the inner loop')\n",
    "    \n",
    "print ('finished')"
   ]
  },
  {
   "cell_type": "markdown",
   "id": "c84efdae",
   "metadata": {},
   "source": [
    "Don't forget the colon!"
   ]
  },
  {
   "cell_type": "markdown",
   "id": "597c1b26",
   "metadata": {},
   "source": [
    "### Functions"
   ]
  },
  {
   "cell_type": "code",
   "execution_count": null,
   "id": "8c78ad18",
   "metadata": {
    "collapsed": false
   },
   "outputs": [],
   "source": [
    "def square(x):\n",
    "    return x**2\n",
    "\n",
    "print (square(5))"
   ]
  },
  {
   "cell_type": "markdown",
   "id": "98e95dd0",
   "metadata": {},
   "source": [
    "Notice how the contents of the function are indented (just like the for loop).  Python knows the function has ended when it finds a line that is not indented."
   ]
  },
  {
   "cell_type": "markdown",
   "id": "5c1d1b58",
   "metadata": {},
   "source": [
    "## Numpy\n",
    "Python includes a package for numerical computation called numpy,  which will be an essential tool in this course.  To get started, we import the numpy module.  We will also tell Python that we want to refer to numpy by the short abbreviation \"np\":"
   ]
  },
  {
   "cell_type": "code",
   "execution_count": null,
   "id": "4e8a0afd",
   "metadata": {
    "collapsed": false
   },
   "outputs": [],
   "source": [
    "import numpy as np"
   ]
  },
  {
   "cell_type": "markdown",
   "id": "1c892dca",
   "metadata": {},
   "source": [
    "### Arrays\n",
    "\n",
    "The most important Numpy class is the `array`.  You can make arrays just like you would in MATLAB:"
   ]
  },
  {
   "cell_type": "code",
   "execution_count": null,
   "id": "6e147998",
   "metadata": {
    "collapsed": false
   },
   "outputs": [],
   "source": [
    "x = np.linspace(0, 1, 5)\n",
    "print (x)"
   ]
  },
  {
   "cell_type": "code",
   "execution_count": null,
   "id": "90f49be8",
   "metadata": {
    "collapsed": false
   },
   "outputs": [],
   "source": [
    "y = np.arange(0, 1, 0.2)\n",
    "print (y)"
   ]
  },
  {
   "cell_type": "markdown",
   "id": "3c91499b",
   "metadata": {},
   "source": [
    "Like `range`, `arange` omits the final value."
   ]
  },
  {
   "cell_type": "markdown",
   "id": "72a3ff2d",
   "metadata": {},
   "source": [
    "Arrays are like lists, except that you can perform math with them in an easier and faster way:"
   ]
  },
  {
   "cell_type": "code",
   "execution_count": null,
   "id": "2b865a91",
   "metadata": {
    "collapsed": false
   },
   "outputs": [],
   "source": [
    "print (x+y)"
   ]
  },
  {
   "cell_type": "code",
   "execution_count": null,
   "id": "eddb0c08",
   "metadata": {
    "collapsed": false
   },
   "outputs": [],
   "source": [
    "print (x*y)"
   ]
  },
  {
   "cell_type": "markdown",
   "id": "88e2d4f2",
   "metadata": {},
   "source": [
    "The syntax for creating a multidimensional array in numpy is also similar to Matlab:"
   ]
  },
  {
   "cell_type": "code",
   "execution_count": null,
   "id": "b2b3a4df",
   "metadata": {
    "collapsed": false
   },
   "outputs": [],
   "source": [
    "A = np.array([[1,2,3],[4,5,6],[7,8,9]])\n",
    "print (A)"
   ]
  },
  {
   "cell_type": "markdown",
   "id": "7f5a10d6",
   "metadata": {},
   "source": [
    "### Indexing"
   ]
  },
  {
   "cell_type": "markdown",
   "id": "45d0d287",
   "metadata": {},
   "source": [
    "You can slice numpy arrays just as in Fortran 90 or Matlab, but (as with lists) the arrays are indexed from zero and you don't get the last element of a slice."
   ]
  },
  {
   "cell_type": "code",
   "execution_count": null,
   "id": "d175cb1b",
   "metadata": {
    "collapsed": false
   },
   "outputs": [],
   "source": [
    "print (A[0,0])"
   ]
  },
  {
   "cell_type": "code",
   "execution_count": null,
   "id": "7a868b3c",
   "metadata": {
    "collapsed": false
   },
   "outputs": [],
   "source": [
    "print (A[1:3,0:2])"
   ]
  },
  {
   "cell_type": "markdown",
   "id": "2ae9fcc6",
   "metadata": {},
   "source": [
    "You can index in some slightly fancier ways, too:"
   ]
  },
  {
   "cell_type": "code",
   "execution_count": null,
   "id": "1ef9b4e8",
   "metadata": {
    "collapsed": false
   },
   "outputs": [],
   "source": [
    "print (A[:,1:])"
   ]
  },
  {
   "cell_type": "code",
   "execution_count": null,
   "id": "a36b3ee3",
   "metadata": {
    "collapsed": false
   },
   "outputs": [],
   "source": [
    "print (A[-1,:])"
   ]
  },
  {
   "cell_type": "markdown",
   "id": "d41e2e8c",
   "metadata": {},
   "source": [
    "You can do lots of other things with arrays.  Type \"A.\" (notice the period!) and press `tab` to see some of them:"
   ]
  },
  {
   "cell_type": "code",
   "execution_count": null,
   "id": "62219ae3",
   "metadata": {
    "collapsed": false
   },
   "outputs": [],
   "source": []
  },
  {
   "cell_type": "markdown",
   "id": "7beb4ea3",
   "metadata": {},
   "source": [
    "## Matplotlib"
   ]
  },
  {
   "cell_type": "markdown",
   "id": "b9e3595c",
   "metadata": {},
   "source": [
    "For plotting we will use the [matplotlib](http://matplotlib.org/) package.  It works a lot like MATLAB's plotting functions."
   ]
  },
  {
   "cell_type": "code",
   "execution_count": null,
   "id": "8264e2f3",
   "metadata": {
    "collapsed": false
   },
   "outputs": [],
   "source": [
    "%matplotlib inline\n",
    "import matplotlib.pyplot as plt"
   ]
  },
  {
   "cell_type": "markdown",
   "id": "2d047bc5",
   "metadata": {},
   "source": [
    "The line beginning with a \"%\" is referred to as a magic function.  It makes plots appear in the browser, rather than in a separate window.  If you want to know about all of IPython's magic functions, just type \"%magic\".\n",
    "\n",
    "Now for a very simple example. Suppose we want to plot the function $\\sin(\\exp(x))$ on the interval $x\\in(0,4)$. We'll use the numpy versions of the sine and exponential functions, which operate on arrays (the math module versions operate only on scalars):  "
   ]
  },
  {
   "cell_type": "code",
   "execution_count": null,
   "id": "83c4bc4e",
   "metadata": {
    "collapsed": false
   },
   "outputs": [],
   "source": [
    "x=np.linspace(0,4,1000)\n",
    "f=np.sin(np.exp(x))\n",
    "plt.plot(x,f)"
   ]
  },
  {
   "cell_type": "markdown",
   "id": "bf263bd2",
   "metadata": {},
   "source": [
    "We'll also see later how to make animations with Matplotlib and IPython."
   ]
  },
  {
   "cell_type": "markdown",
   "id": "30fae903",
   "metadata": {},
   "source": [
    "### A note about speed\n",
    "\n",
    "Like MATLAB, Python is relatively slow -- especially when using **loops** with many iterations, nested loops, or deeply nested function calls.  For the exercises in this course, Python will be sufficiently fast, but you should use numpy slicing whenever possible.\n",
    "\n",
    "We will often need to compute the difference of each pair of successive entries of an array.  Here are two ways to do it.  Which is faster?  We can find out using another \"magic\" function."
   ]
  },
  {
   "cell_type": "code",
   "execution_count": null,
   "id": "43fc724c",
   "metadata": {
    "collapsed": false
   },
   "outputs": [],
   "source": [
    "N = 1000000\n",
    "a = np.random.rand(N)\n",
    "b = np.zeros(N-1)"
   ]
  },
  {
   "cell_type": "code",
   "execution_count": null,
   "id": "3ff746aa",
   "metadata": {
    "collapsed": false
   },
   "outputs": [],
   "source": [
    "%%timeit\n",
    "for i in range(len(b)):\n",
    "    b[i] = a[i+1]-a[i]"
   ]
  },
  {
   "cell_type": "code",
   "execution_count": null,
   "id": "6e9b1bc8",
   "metadata": {
    "collapsed": false
   },
   "outputs": [],
   "source": [
    "%%timeit\n",
    "b = a[1:]-a[:-1]"
   ]
  },
  {
   "cell_type": "markdown",
   "id": "b4c3f1f7",
   "metadata": {},
   "source": [
    "For large-scale computational problems, you shouldn't use Python for any code that needs to be fast. Instead, you can write/generate code in C or Fortran and use weave, [cython](http://cython.org/), [f2py](http://www.f2py.com/), or other similar packages to automatically incorporate that code into your Python program.  \n",
    "\n",
    "Toward the end of the course, we'll use the PyClaw package, which includes Fortran code and is built using f2py."
   ]
  },
  {
   "cell_type": "markdown",
   "id": "823e8721",
   "metadata": {},
   "source": [
    "### A warning about division"
   ]
  },
  {
   "cell_type": "markdown",
   "id": "e4939ee9",
   "metadata": {},
   "source": [
    "Be careful when dividing numbers in Python.  If you divide with integers, Python may not do what you expect.  In scientific computing, you usually want to use floating point numbers."
   ]
  },
  {
   "cell_type": "code",
   "execution_count": null,
   "id": "0d0e3746",
   "metadata": {
    "collapsed": false
   },
   "outputs": [],
   "source": [
    "print (1/2)\n",
    "print (1.0/2.0)"
   ]
  },
  {
   "cell_type": "markdown",
   "id": "09249ba9",
   "metadata": {},
   "source": [
    "## Why use Python?"
   ]
  },
  {
   "cell_type": "markdown",
   "id": "a1f30f7c",
   "metadata": {},
   "source": [
    "Hopefully this brief adventure has convinced you that Python is a worthwhile programming language.  Some of the reasons I chose Python as the language for this course (and other courses I teach) are:\n",
    "- Compared to lower-level languages like C, C++, and Fortran, Python code is easier to write and read (meaning fewer bugs!)\n",
    "- A huge number of available libraries means it is easy to get things done in Python without writing a lot of code yourself\n",
    "- Python is a general-purpose programming language, with features (like optional arguments with defaults) that lead to more elegant, maintainable code than what you can write with specialized languages like MATLAB.\n",
    "- Python is free and comes installed on most systems.  You can run this whole course with only a web browser and access to the internet.\n",
    "- It's easy to incorporate code written in other languages into your Python programs.\n",
    "- It's often easy to [parallelize existing scientific codes](http://numerics.kaust.edu.sa/papers/pyclaw-sisc/pyclaw-sisc.html) using Python.\n",
    "\n",
    "For a longer discussion with links to some scientific studies of the value of Python, see [this blog post by Lorena Barba](http://lorenabarba.com/blog/why-i-push-for-python/)."
   ]
  },
  {
   "cell_type": "markdown",
   "id": "052dc5ac",
   "metadata": {},
   "source": [
    "## Further resources"
   ]
  },
  {
   "cell_type": "markdown",
   "id": "04b60680",
   "metadata": {},
   "source": [
    "### Python, numpy, and matplotlib"
   ]
  },
  {
   "cell_type": "markdown",
   "id": "72331534",
   "metadata": {},
   "source": [
    "We've only scratched the surface of Python here.  You'll learn more in the rest of the course -- and it's great to learn by doing.  But if you want a really solid foundation, you may want to take a look at these:\n",
    "\n",
    "- http://www.learnpython.org/ (free)\n",
    "- http://www.codecademy.com/tracks/python (free)\n",
    "- http://www.diveintopython.net/ (free)\n",
    "- [A Primer on Scientific Programming with Python](http://www.amazon.com/Scientific-Programming-Computational-Science-Engineering/dp/3642302920) (book; not free)\n",
    "- [Matplotlib tutorial](http://www.loria.fr/~rougier/teaching/matplotlib/) (free)\n",
    "- [Numpy tutorial](http://wiki.scipy.org/Tentative_NumPy_Tutorial) (free)"
   ]
  },
  {
   "cell_type": "markdown",
   "id": "3129476d",
   "metadata": {},
   "source": [
    "### Other Python packages for science"
   ]
  },
  {
   "cell_type": "markdown",
   "id": "659c936e",
   "metadata": {},
   "source": [
    "Besides numpy and matplotlib, there are many other useful Python packages for scientific computing. Here is a short list:  \n",
    "\n",
    "- [scipy](http://www.scipy.org/) - optimization, ODEs, sparse linear algebra, etc.\n",
    "- [sympy](http://sympy.org/) - symbolic computation\n",
    "- Visualization: [yt](http://yt-project.org/), [vispy](http://vispy.org/), [Bokeh](http://bokeh.pydata.org/)\n",
    "- [pandas](http://pandas.pydata.org/) - data analysis\n",
    "- [mpi4py](http://mpi4py.scipy.org/) - parallel computing\n",
    "- [petsc4py](http://code.google.com/p/petsc4py/), [pytrilinos](http://trilinos.sandia.gov/packages/pytrilinos/) - Python bindings for the \"big 2\" parallel scientific libraries\n",
    "- [pyCUDA](http://mathema.tician.de/software/pycuda), [pyOpenCL](http://mathema.tician.de/software/pyopencl) - GPGPU computing\n",
    "- [FENiCS](http://fenicsproject.org/), [FiPy](http://www.ctcms.nist.gov/fipy/), [PyClaw](http://clawpack.github.io/doc/pyclaw/) - solve complicated PDEs with very sophisticated numerical methods\n",
    "- [networkX](http://networkx.github.com/), [pygraphviz](http://networkx.lanl.gov/pygraphviz/) - graphs\n",
    "- [astropy](http://www.astropy.org/), [biopython](http://biopython.org/wiki/Main_Page), [pychem](http://pychem.sourceforge.net/) - discipline-specific tools"
   ]
  },
  {
   "cell_type": "code",
   "execution_count": null,
   "id": "aae071de",
   "metadata": {
    "collapsed": false
   },
   "outputs": [],
   "source": []
  }
 ],
 "metadata": {
  "kernelspec": {
   "display_name": "base",
   "language": "python",
   "name": "python3"
  },
  "language_info": {
   "codemirror_mode": {
    "name": "ipython",
    "version": 3
   },
   "file_extension": ".py",
   "mimetype": "text/x-python",
   "name": "python",
   "nbconvert_exporter": "python",
   "pygments_lexer": "ipython3",
   "version": "3.9.13"
  },
  "vscode": {
   "interpreter": {
    "hash": "21f3e4b7686f5765b53a86d750e9c9699b0ca8e58efbef957fc535a6f28d5d61"
   }
  }
 },
 "nbformat": 4,
 "nbformat_minor": 5
}
